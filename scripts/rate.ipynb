{
 "cells": [
  {
   "cell_type": "code",
   "execution_count": 27,
   "id": "c618b6ba",
   "metadata": {},
   "outputs": [],
   "source": [
    "import sys\n",
    "import json\n",
    "import pandas as pd\n",
    "import matplotlib.pyplot as plt\n",
    "from sage_data_client import query\n",
    "import numpy as np"
   ]
  },
  {
   "cell_type": "code",
   "execution_count": 28,
   "id": "edad15d6",
   "metadata": {},
   "outputs": [],
   "source": [
    "def get_measurements(vsn, name):\n",
    "    return query(\n",
    "    start=\"-3h\",\n",
    "    filter={\n",
    "        \"name\": name,\n",
    "        \"vsn\": vsn.upper(),\n",
    "        }\n",
    "    )"
   ]
  },
  {
   "cell_type": "code",
   "execution_count": 29,
   "id": "09c298b9",
   "metadata": {},
   "outputs": [],
   "source": [
    "w023 = get_measurements(\"w023\", name=\"env.raingauge.total_acc\")\n"
   ]
  },
  {
   "cell_type": "code",
   "execution_count": 6,
   "id": "c0aa1d84",
   "metadata": {},
   "outputs": [
    {
     "data": {
      "text/plain": [
       "<AxesSubplot: xlabel='timestamp'>"
      ]
     },
     "execution_count": 6,
     "metadata": {},
     "output_type": "execute_result"
    },
    {
     "data": {
      "image/png": "[encoded data removed]",
      "text/plain": [
       "<Figure size 640x480 with 1 Axes>"
      ]
     },
     "metadata": {},
     "output_type": "display_data"
    }
   ],
   "source": [
    "w023.plot(x=\"timestamp\", y=\"value\")"
   ]
  },
  {
   "cell_type": "code",
   "execution_count": 9,
   "id": "8eee6b70",
   "metadata": {},
   "outputs": [
    {
     "data": {
      "text/html": [
       "<div>\n",
       "<style scoped>\n",
       "    .dataframe tbody tr th:only-of-type {\n",
       "        vertical-align: middle;\n",
       "    }\n",
       "\n",
       "    .dataframe tbody tr th {\n",
       "        vertical-align: top;\n",
       "    }\n",
       "\n",
       "    .dataframe thead th {\n",
       "        text-align: right;\n",
       "    }\n",
       "</style>\n",
       "<table border=\"1\" class=\"dataframe\">\n",
       "  <thead>\n",
       "    <tr style=\"text-align: right;\">\n",
       "      <th></th>\n",
       "      <th>timestamp</th>\n",
       "      <th>name</th>\n",
       "      <th>value</th>\n",
       "      <th>meta.host</th>\n",
       "      <th>meta.job</th>\n",
       "      <th>meta.node</th>\n",
       "      <th>meta.plugin</th>\n",
       "      <th>meta.task</th>\n",
       "      <th>meta.vsn</th>\n",
       "    </tr>\n",
       "  </thead>\n",
       "  <tbody>\n",
       "    <tr>\n",
       "      <th>0</th>\n",
       "      <td>2022-11-17 19:10:32.434088474+00:00</td>\n",
       "      <td>env.raingauge.total_acc</td>\n",
       "      <td>407.14</td>\n",
       "      <td>0000dca632a3058b.ws-rpi</td>\n",
       "      <td>sage</td>\n",
       "      <td>000048b02d15bc7c</td>\n",
       "      <td>waggle/plugin-raingauge:0.4.1</td>\n",
       "      <td>raingauge</td>\n",
       "      <td>W023</td>\n",
       "    </tr>\n",
       "    <tr>\n",
       "      <th>1</th>\n",
       "      <td>2022-11-17 19:11:02.459970444+00:00</td>\n",
       "      <td>env.raingauge.total_acc</td>\n",
       "      <td>407.14</td>\n",
       "      <td>0000dca632a3058b.ws-rpi</td>\n",
       "      <td>sage</td>\n",
       "      <td>000048b02d15bc7c</td>\n",
       "      <td>waggle/plugin-raingauge:0.4.1</td>\n",
       "      <td>raingauge</td>\n",
       "      <td>W023</td>\n",
       "    </tr>\n",
       "    <tr>\n",
       "      <th>2</th>\n",
       "      <td>2022-11-17 19:11:32.470569598+00:00</td>\n",
       "      <td>env.raingauge.total_acc</td>\n",
       "      <td>407.14</td>\n",
       "      <td>0000dca632a3058b.ws-rpi</td>\n",
       "      <td>sage</td>\n",
       "      <td>000048b02d15bc7c</td>\n",
       "      <td>waggle/plugin-raingauge:0.4.1</td>\n",
       "      <td>raingauge</td>\n",
       "      <td>W023</td>\n",
       "    </tr>\n",
       "    <tr>\n",
       "      <th>3</th>\n",
       "      <td>2022-11-17 19:12:02.511317489+00:00</td>\n",
       "      <td>env.raingauge.total_acc</td>\n",
       "      <td>407.14</td>\n",
       "      <td>0000dca632a3058b.ws-rpi</td>\n",
       "      <td>sage</td>\n",
       "      <td>000048b02d15bc7c</td>\n",
       "      <td>waggle/plugin-raingauge:0.4.1</td>\n",
       "      <td>raingauge</td>\n",
       "      <td>W023</td>\n",
       "    </tr>\n",
       "    <tr>\n",
       "      <th>4</th>\n",
       "      <td>2022-11-17 19:12:32.539173720+00:00</td>\n",
       "      <td>env.raingauge.total_acc</td>\n",
       "      <td>407.14</td>\n",
       "      <td>0000dca632a3058b.ws-rpi</td>\n",
       "      <td>sage</td>\n",
       "      <td>000048b02d15bc7c</td>\n",
       "      <td>waggle/plugin-raingauge:0.4.1</td>\n",
       "      <td>raingauge</td>\n",
       "      <td>W023</td>\n",
       "    </tr>\n",
       "    <tr>\n",
       "      <th>...</th>\n",
       "      <td>...</td>\n",
       "      <td>...</td>\n",
       "      <td>...</td>\n",
       "      <td>...</td>\n",
       "      <td>...</td>\n",
       "      <td>...</td>\n",
       "      <td>...</td>\n",
       "      <td>...</td>\n",
       "      <td>...</td>\n",
       "    </tr>\n",
       "    <tr>\n",
       "      <th>115</th>\n",
       "      <td>2022-11-17 20:08:05.401448298+00:00</td>\n",
       "      <td>env.raingauge.total_acc</td>\n",
       "      <td>407.29</td>\n",
       "      <td>0000dca632a3058b.ws-rpi</td>\n",
       "      <td>sage</td>\n",
       "      <td>000048b02d15bc7c</td>\n",
       "      <td>waggle/plugin-raingauge:0.4.1</td>\n",
       "      <td>raingauge</td>\n",
       "      <td>W023</td>\n",
       "    </tr>\n",
       "    <tr>\n",
       "      <th>116</th>\n",
       "      <td>2022-11-17 20:08:35.428635940+00:00</td>\n",
       "      <td>env.raingauge.total_acc</td>\n",
       "      <td>407.29</td>\n",
       "      <td>0000dca632a3058b.ws-rpi</td>\n",
       "      <td>sage</td>\n",
       "      <td>000048b02d15bc7c</td>\n",
       "      <td>waggle/plugin-raingauge:0.4.1</td>\n",
       "      <td>raingauge</td>\n",
       "      <td>W023</td>\n",
       "    </tr>\n",
       "    <tr>\n",
       "      <th>117</th>\n",
       "      <td>2022-11-17 20:09:05.455165950+00:00</td>\n",
       "      <td>env.raingauge.total_acc</td>\n",
       "      <td>407.29</td>\n",
       "      <td>0000dca632a3058b.ws-rpi</td>\n",
       "      <td>sage</td>\n",
       "      <td>000048b02d15bc7c</td>\n",
       "      <td>waggle/plugin-raingauge:0.4.1</td>\n",
       "      <td>raingauge</td>\n",
       "      <td>W023</td>\n",
       "    </tr>\n",
       "    <tr>\n",
       "      <th>118</th>\n",
       "      <td>2022-11-17 20:09:35.497548292+00:00</td>\n",
       "      <td>env.raingauge.total_acc</td>\n",
       "      <td>407.29</td>\n",
       "      <td>0000dca632a3058b.ws-rpi</td>\n",
       "      <td>sage</td>\n",
       "      <td>000048b02d15bc7c</td>\n",
       "      <td>waggle/plugin-raingauge:0.4.1</td>\n",
       "      <td>raingauge</td>\n",
       "      <td>W023</td>\n",
       "    </tr>\n",
       "    <tr>\n",
       "      <th>119</th>\n",
       "      <td>2022-11-17 20:10:05.523608513+00:00</td>\n",
       "      <td>env.raingauge.total_acc</td>\n",
       "      <td>407.30</td>\n",
       "      <td>0000dca632a3058b.ws-rpi</td>\n",
       "      <td>sage</td>\n",
       "      <td>000048b02d15bc7c</td>\n",
       "      <td>waggle/plugin-raingauge:0.4.1</td>\n",
       "      <td>raingauge</td>\n",
       "      <td>W023</td>\n",
       "    </tr>\n",
       "  </tbody>\n",
       "</table>\n",
       "<p>120 rows × 9 columns</p>\n",
       "</div>"
      ],
      "text/plain": [
       "                              timestamp                     name   value  \\\n",
       "0   2022-11-17 19:10:32.434088474+00:00  env.raingauge.total_acc  407.14   \n",
       "1   2022-11-17 19:11:02.459970444+00:00  env.raingauge.total_acc  407.14   \n",
       "2   2022-11-17 19:11:32.470569598+00:00  env.raingauge.total_acc  407.14   \n",
       "3   2022-11-17 19:12:02.511317489+00:00  env.raingauge.total_acc  407.14   \n",
       "4   2022-11-17 19:12:32.539173720+00:00  env.raingauge.total_acc  407.14   \n",
       "..                                  ...                      ...     ...   \n",
       "115 2022-11-17 20:08:05.401448298+00:00  env.raingauge.total_acc  407.29   \n",
       "116 2022-11-17 20:08:35.428635940+00:00  env.raingauge.total_acc  407.29   \n",
       "117 2022-11-17 20:09:05.455165950+00:00  env.raingauge.total_acc  407.29   \n",
       "118 2022-11-17 20:09:35.497548292+00:00  env.raingauge.total_acc  407.29   \n",
       "119 2022-11-17 20:10:05.523608513+00:00  env.raingauge.total_acc  407.30   \n",
       "\n",
       "                   meta.host meta.job         meta.node  \\\n",
       "0    0000dca632a3058b.ws-rpi     sage  000048b02d15bc7c   \n",
       "1    0000dca632a3058b.ws-rpi     sage  000048b02d15bc7c   \n",
       "2    0000dca632a3058b.ws-rpi     sage  000048b02d15bc7c   \n",
       "3    0000dca632a3058b.ws-rpi     sage  000048b02d15bc7c   \n",
       "4    0000dca632a3058b.ws-rpi     sage  000048b02d15bc7c   \n",
       "..                       ...      ...               ...   \n",
       "115  0000dca632a3058b.ws-rpi     sage  000048b02d15bc7c   \n",
       "116  0000dca632a3058b.ws-rpi     sage  000048b02d15bc7c   \n",
       "117  0000dca632a3058b.ws-rpi     sage  000048b02d15bc7c   \n",
       "118  0000dca632a3058b.ws-rpi     sage  000048b02d15bc7c   \n",
       "119  0000dca632a3058b.ws-rpi     sage  000048b02d15bc7c   \n",
       "\n",
       "                       meta.plugin  meta.task meta.vsn  \n",
       "0    waggle/plugin-raingauge:0.4.1  raingauge     W023  \n",
       "1    waggle/plugin-raingauge:0.4.1  raingauge     W023  \n",
       "2    waggle/plugin-raingauge:0.4.1  raingauge     W023  \n",
       "3    waggle/plugin-raingauge:0.4.1  raingauge     W023  \n",
       "4    waggle/plugin-raingauge:0.4.1  raingauge     W023  \n",
       "..                             ...        ...      ...  \n",
       "115  waggle/plugin-raingauge:0.4.1  raingauge     W023  \n",
       "116  waggle/plugin-raingauge:0.4.1  raingauge     W023  \n",
       "117  waggle/plugin-raingauge:0.4.1  raingauge     W023  \n",
       "118  waggle/plugin-raingauge:0.4.1  raingauge     W023  \n",
       "119  waggle/plugin-raingauge:0.4.1  raingauge     W023  \n",
       "\n",
       "[120 rows x 9 columns]"
      ]
     },
     "execution_count": 9,
     "metadata": {},
     "output_type": "execute_result"
    }
   ],
   "source": [
    "w023"
   ]
  },
  {
   "cell_type": "code",
   "execution_count": 11,
   "id": "5af50cd1",
   "metadata": {},
   "outputs": [
    {
     "data": {
      "text/plain": [
       "0.0013445378151262606"
      ]
     },
     "execution_count": 11,
     "metadata": {},
     "output_type": "execute_result"
    }
   ],
   "source": [
    "w023[\"value\"].diff().mean()"
   ]
  },
  {
   "cell_type": "code",
   "execution_count": 30,
   "id": "62fd7c31",
   "metadata": {},
   "outputs": [
    {
     "name": "stderr",
     "output_type": "stream",
     "text": [
      "/var/folders/tr/7n6yv5q54t73qs20cl85h5xm0000gn/T/ipykernel_37351/1413055547.py:1: FutureWarning: The default value of numeric_only in DataFrameGroupBy.mean is deprecated. In a future version, numeric_only will default to False. Either specify numeric_only or select only columns which should be valid for the function.\n",
      "  w023.groupby(pd.Grouper(key=\"timestamp\", freq=\"1H\")).mean().diff()\n"
     ]
    },
    {
     "data": {
      "text/html": [
       "<div>\n",
       "<style scoped>\n",
       "    .dataframe tbody tr th:only-of-type {\n",
       "        vertical-align: middle;\n",
       "    }\n",
       "\n",
       "    .dataframe tbody tr th {\n",
       "        vertical-align: top;\n",
       "    }\n",
       "\n",
       "    .dataframe thead th {\n",
       "        text-align: right;\n",
       "    }\n",
       "</style>\n",
       "<table border=\"1\" class=\"dataframe\">\n",
       "  <thead>\n",
       "    <tr style=\"text-align: right;\">\n",
       "      <th></th>\n",
       "      <th>value</th>\n",
       "    </tr>\n",
       "    <tr>\n",
       "      <th>timestamp</th>\n",
       "      <th></th>\n",
       "    </tr>\n",
       "  </thead>\n",
       "  <tbody>\n",
       "    <tr>\n",
       "      <th>2022-11-17 17:00:00+00:00</th>\n",
       "      <td>NaN</td>\n",
       "    </tr>\n",
       "    <tr>\n",
       "      <th>2022-11-17 18:00:00+00:00</th>\n",
       "      <td>0.095468</td>\n",
       "    </tr>\n",
       "    <tr>\n",
       "      <th>2022-11-17 19:00:00+00:00</th>\n",
       "      <td>0.135116</td>\n",
       "    </tr>\n",
       "    <tr>\n",
       "      <th>2022-11-17 20:00:00+00:00</th>\n",
       "      <td>0.127171</td>\n",
       "    </tr>\n",
       "  </tbody>\n",
       "</table>\n",
       "</div>"
      ],
      "text/plain": [
       "                              value\n",
       "timestamp                          \n",
       "2022-11-17 17:00:00+00:00       NaN\n",
       "2022-11-17 18:00:00+00:00  0.095468\n",
       "2022-11-17 19:00:00+00:00  0.135116\n",
       "2022-11-17 20:00:00+00:00  0.127171"
      ]
     },
     "execution_count": 30,
     "metadata": {},
     "output_type": "execute_result"
    }
   ],
   "source": [
    "w023.groupby(pd.Grouper(key=\"timestamp\", freq=\"1H\")).mean().diff()"
   ]
  },
  {
   "cell_type": "code",
   "execution_count": 49,
   "id": "d175e82f",
   "metadata": {},
   "outputs": [],
   "source": [
    "w024[\"1st_derivative\"] = w024[\"value\"].diff() / w024[\"timestamp\"].diff().dt.total_seconds()"
   ]
  },
  {
   "cell_type": "code",
   "execution_count": 43,
   "id": "42559e03",
   "metadata": {},
   "outputs": [
    {
     "data": {
      "text/plain": [
       "True"
      ]
     },
     "execution_count": 43,
     "metadata": {},
     "output_type": "execute_result"
    }
   ],
   "source": [
    "any(w024[\"1st_derivative\"].to_numpy() > 0.0003)"
   ]
  },
  {
   "cell_type": "code",
   "execution_count": 26,
   "id": "624944f0",
   "metadata": {},
   "outputs": [],
   "source": [
    "a = query(start=\"2022-09-10T00:00:00Z\", end=\"2022-09-12T11:59:59Z\", filter={\"vsn\": \"W024\", \"name\": \"env.temperature\", \"sensor\": \"bme680\"})"
   ]
  },
  {
   "cell_type": "code",
   "execution_count": 27,
   "id": "bc07c711",
   "metadata": {},
   "outputs": [
    {
     "data": {
      "text/plain": [
       "<AxesSubplot: xlabel='timestamp'>"
      ]
     },
     "execution_count": 27,
     "metadata": {},
     "output_type": "execute_result"
    },
    {
     "data": {
      "image/png": "[encoded data removed]",
      "text/plain": [
       "<Figure size 640x480 with 1 Axes>"
      ]
     },
     "metadata": {},
     "output_type": "display_data"
    }
   ],
   "source": [
    "a.plot(x=\"timestamp\", y=\"value\")"
   ]
  }
 ],
 "metadata": {
  "kernelspec": {
   "display_name": "Python 3.10.7 64-bit",
   "language": "python",
   "name": "python3"
  },
  "language_info": {
   "codemirror_mode": {
    "name": "ipython",
    "version": 3
   },
   "file_extension": ".py",
   "mimetype": "text/x-python",
   "name": "python",
   "nbconvert_exporter": "python",
   "pygments_lexer": "ipython3",
   "version": "3.10.7"
  },
  "vscode": {
   "interpreter": {
    "hash": "aee8b7b246df8f9039afb4144a1f6fd8d2ca17a180786b69acc140d282b71a49"
   }
  }
 },
 "nbformat": 4,
 "nbformat_minor": 5
}
